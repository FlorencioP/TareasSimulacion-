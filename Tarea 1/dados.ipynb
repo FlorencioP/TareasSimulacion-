{
 "cells": [
  {
   "cell_type": "code",
   "execution_count": 65,
   "metadata": {},
   "outputs": [],
   "source": [
    "import random\n",
    "\n",
    "\n",
    "def lanzar():\n",
    "    d1= random.randint(1, 6)\n",
    "\n",
    "    d2= random.randint(1, 6)\n",
    "\n",
    "    r= d1+d2\n",
    "\n",
    "    return r\n"
   ]
  },
  {
   "cell_type": "code",
   "execution_count": 108,
   "metadata": {},
   "outputs": [],
   "source": [
    "from collections import Counter\n",
    "\n",
    "def repeticiones (n):\n",
    "\n",
    "    a=[]\n",
    "\n",
    "    for i in range(n):\n",
    "        a.append(lanzar())\n",
    "\n",
    "\n",
    "    ac=Counter(a)\n",
    "\n",
    "    return ac\n",
    "\n"
   ]
  },
  {
   "cell_type": "code",
   "execution_count": 119,
   "metadata": {},
   "outputs": [
    {
     "data": {
      "image/png": "[encoded data removed]",
      "text/plain": [
       "<Figure size 432x288 with 1 Axes>"
      ]
     },
     "metadata": {
      "needs_background": "light"
     },
     "output_type": "display_data"
    }
   ],
   "source": [
    "import matplotlib.pyplot as plt\n",
    "fig = plt.figure()\n",
    "ax = fig.add_axes([0,0,1,1])\n",
    "lista= repeticiones(100)\n",
    "\n",
    "langs = list(lista.keys())\n",
    "students = list(lista.values())\n",
    "ax.bar(langs,students)\n",
    "plt.show()"
   ]
  }
 ],
 "metadata": {
  "interpreter": {
   "hash": "71b56c1281b0138e7b96a1f70a21f08bfa7131b13cb1dc1a2db4e43ed7ab947a"
  },
  "kernelspec": {
   "display_name": "Python 3.9.7 ('base')",
   "language": "python",
   "name": "python3"
  },
  "language_info": {
   "codemirror_mode": {
    "name": "ipython",
    "version": 3
   },
   "file_extension": ".py",
   "mimetype": "text/x-python",
   "name": "python",
   "nbconvert_exporter": "python",
   "pygments_lexer": "ipython3",
   "version": "3.9.7"
  },
  "orig_nbformat": 4
 },
 "nbformat": 4,
 "nbformat_minor": 2
}
