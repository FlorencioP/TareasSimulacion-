{
 "cells": [
  {
   "cell_type": "markdown",
   "metadata": {},
   "source": [
    "# Practica.\n",
    "\n",
    "Realizar la planificación y modelado de una simulacion basado en eventos discretos para identificar los contagios dentro de un establecimiento de estudiantes post COVID-19 para el reingreso de clases. Los pasos para el regreso progresivo a clases se describe a continuación:\n",
    "\n",
    "- Calcular e Identificar el aforo máximo permitido en la institución educativa.\n",
    "- Identificar el número de estudiantes y el porcentaje de contagio dentro del contexto poblacional el mismo que se aplicara dentro de la simulación por el contagio.\n",
    "- Generar la simulación desde la puerta de ingreso y la salida del plantel por día.\n",
    "- Los estudiantes hacen fila para ingresar al establecimiento y no pueden superar el aforo permitido.\n",
    "- Realizar con un tiempo de un 1 mes.\n",
    "\n",
    "Generar graficas que indiquen los estudiantes que presentaron complicaciones y el total de estudiantes por establecimiento en cada día o semana."
   ]
  },
  {
   "cell_type": "code",
   "execution_count": 17,
   "metadata": {},
   "outputs": [
    {
     "name": "stdout",
     "output_type": "stream",
     "text": [
      "{1: 72, 2: 70, 3: 68, 4: 71, 5: 81, 6: 52, 7: 69, 8: 79, 9: 80, 10: 83, 11: 51, 12: 50, 13: 73, 14: 88, 15: 96, 16: 63, 17: 64, 18: 69, 19: 88, 20: 81, 21: 60, 22: 59, 23: 70, 24: 70, 25: 76, 26: 75, 27: 74, 28: 75, 29: 70, 30: 89, 31: 57}\n"
     ]
    }
   ],
   "source": [
    "import simpy\n",
    "import random\n",
    "import matplotlib.pyplot as plt\n",
    "from scipy import stats \n",
    "\n",
    "\n",
    "contagio=0.05\n",
    "aforo=300\n",
    "        # 6 horas al dia x 30 dias\n",
    "tiempo = 360 * 38\n",
    "dia=1\n",
    "tiempoestadia=0\n",
    "\n",
    "contagiosaldia={}\n",
    "\n",
    "class Escuela(object):\n",
    "    \n",
    "    def __init__(self, environment, aforo):\n",
    "        self.env=environment\n",
    "        self.aforo = simpy.Resource(environment, aforo)\n",
    "\n",
    "        \n",
    "    def enclases(self):\n",
    "        \n",
    "        yield self.env.timeout(360) #6 horas\n",
    "    \n",
    "\n",
    "\n",
    "\n",
    "\n",
    "\n",
    "def llegada_estudiantes(env, escuela, contagio , dia):\n",
    "    \n",
    "    \n",
    "\n",
    "    with escuela.aforo.request() as aforo:\n",
    "\n",
    "        yield aforo\n",
    "        contagiado = 0\n",
    "        yield env.process(escuela.enclases())\n",
    "\n",
    "        if tiempoestadia<=0 and tiempoestadia<60:\n",
    "\n",
    "            bernoulli = stats.bernoulli(contagio)\n",
    "            contagiado=bernoulli.rvs(1)\n",
    "\n",
    "        elif tiempoestadia<=60 and tiempoestadia<120:\n",
    "\n",
    "            contagio=+0.1\n",
    "            bernoulli = stats.bernoulli(contagio)\n",
    "            contagiado=bernoulli.rvs(1)\n",
    "\n",
    "\n",
    "        elif tiempoestadia>=120 and tiempoestadia<180:\n",
    "            \n",
    "            contagio=+0.2\n",
    "            bernoulli = stats.bernoulli(contagio)\n",
    "            contagiado=bernoulli.rvs(1)\n",
    "\n",
    "        elif tiempoestadia>=180 and tiempoestadia<240:\n",
    "\n",
    "            contagio=+0.3\n",
    "            bernoulli = stats.bernoulli(contagio)\n",
    "            contagiado=bernoulli.rvs(1)\n",
    "\n",
    "        elif tiempoestadia>=240 and tiempoestadia<300:\n",
    "\n",
    "            contagio=+0.4\n",
    "            bernoulli = stats.bernoulli(contagio)\n",
    "            contagiado=bernoulli.rvs(1)\n",
    "\n",
    "        elif tiempoestadia>=300 and tiempoestadia<360:\n",
    "\n",
    "            contagio=+0.5\n",
    "            bernoulli = stats.bernoulli(contagio)\n",
    "            contagiado=bernoulli.rvs(1)\n",
    "\n",
    "\n",
    "\n",
    "        if contagiado == 1 :\n",
    "            if dia in contagiosaldia.keys():\n",
    "                contagiosaldia[dia]+=1\n",
    "            else:\n",
    "                contagiosaldia[dia]=1\n",
    "\n",
    "\n",
    "        \n",
    "\n",
    "def poner_contagios_porDia(lasHoras, PROBABILIDAD_CONTAGIO):\n",
    "    contadorContagios=0\n",
    "    for k in list(lasHoras.keys()):\n",
    "        bernoulli = stats.bernoulli(PROBABILIDAD_CONTAGIO)\n",
    "        contagios=bernoulli.rvs(lasHoras[k])\n",
    "        # print(k)\n",
    "        \n",
    "        for c in contagios:\n",
    "            if c == 1:\n",
    "                contadorContagios+=1\n",
    "    return contadorContagios\n",
    "\n",
    "def ejecutar_simulacion(env, aforo):\n",
    "    \n",
    "    escuela=Escuela(env, aforo)\n",
    "    global contagiosaldia\n",
    "    global dia\n",
    "    global tiempoestadia\n",
    "    \n",
    "    while True:\n",
    "        tiempoestadia+=1\n",
    "        yield env.timeout(1)\n",
    "        env.process(llegada_estudiantes(env, escuela, contagio, dia))\n",
    "        \n",
    "        if tiempoestadia==360:\n",
    "            dia=dia+1\n",
    "            tiempoestadia=0\n",
    "        # contagios.append(contador)\n",
    "        \n",
    "\n",
    "\n",
    "env=simpy.Environment()\n",
    "env.process(ejecutar_simulacion(env, aforo))\n",
    "env.run(until = tiempo)\n",
    "\n",
    "print(contagiosaldia)\n",
    "\n"
   ]
  },
  {
   "cell_type": "code",
   "execution_count": 18,
   "metadata": {},
   "outputs": [
    {
     "data": {
      "image/png": "[encoded data removed]",
      "text/plain": [
       "<Figure size 432x288 with 1 Axes>"
      ]
     },
     "metadata": {
      "needs_background": "light"
     },
     "output_type": "display_data"
    }
   ],
   "source": [
    "etiqueta =  list(contagiosaldia.keys())\n",
    "valores = list(contagiosaldia.values())\n",
    "plt.bar(etiqueta, valores, align=\"center\")\n",
    "plt.title(\"Tasa de contagios por dia\")\n",
    "plt.xlabel(\"Dia\")\n",
    "plt.ylabel(\"Nro. Contagios\")\n",
    "plt.show()"
   ]
  }
 ],
 "metadata": {
  "kernelspec": {
   "display_name": "Python 3.10.5 64-bit (windows store)",
   "language": "python",
   "name": "python3"
  },
  "language_info": {
   "codemirror_mode": {
    "name": "ipython",
    "version": 3
   },
   "file_extension": ".py",
   "mimetype": "text/x-python",
   "name": "python",
   "nbconvert_exporter": "python",
   "pygments_lexer": "ipython3",
   "version": "3.10.5"
  },
  "orig_nbformat": 4,
  "vscode": {
   "interpreter": {
    "hash": "54985528a19cf115f7ce7be24899b343e366c3219b39a82db69a46eb838110b3"
   }
  }
 },
 "nbformat": 4,
 "nbformat_minor": 2
}
